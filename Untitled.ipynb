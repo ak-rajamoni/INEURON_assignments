{
 "cells": [
  {
   "cell_type": "markdown",
   "metadata": {},
   "source": [
    "### String's in Python\n"
   ]
  },
  {
   "cell_type": "code",
   "execution_count": 53,
   "metadata": {},
   "outputs": [],
   "source": [
    "# syntax:\n",
    "# <var_name>=\"\n",
    "# representation with '',\"\",\"\"\"\"\"\" quotes\n",
    "\n",
    "s='code geeks'"
   ]
  },
  {
   "cell_type": "code",
   "execution_count": 54,
   "metadata": {},
   "outputs": [
    {
     "name": "stdout",
     "output_type": "stream",
     "text": [
      "code geeks\n"
     ]
    }
   ],
   "source": [
    "print(s)"
   ]
  },
  {
   "cell_type": "markdown",
   "metadata": {},
   "source": [
    "### Length of the String"
   ]
  },
  {
   "cell_type": "code",
   "execution_count": 55,
   "metadata": {},
   "outputs": [
    {
     "data": {
      "text/plain": [
       "'code geeks\\x00'"
      ]
     },
     "execution_count": 55,
     "metadata": {},
     "output_type": "execute_result"
    }
   ],
   "source": [
    "# appending the null character like c style\n",
    "s=s+'\\0'\n",
    "s"
   ]
  },
  {
   "cell_type": "code",
   "execution_count": 56,
   "metadata": {},
   "outputs": [
    {
     "name": "stdout",
     "output_type": "stream",
     "text": [
      "11\n"
     ]
    }
   ],
   "source": [
    "# lenth of string\n",
    "\n",
    "count=1\n",
    "i=0\n",
    "while(s[i]!='\\x00'):\n",
    "    count+=1\n",
    "    i+=1\n",
    "print(count)\n",
    "    "
   ]
  },
  {
   "cell_type": "code",
   "execution_count": 57,
   "metadata": {},
   "outputs": [
    {
     "name": "stdout",
     "output_type": "stream",
     "text": [
      "11\n"
     ]
    }
   ],
   "source": [
    "# using the predefined method \n",
    "print(len(s)) #s[0 ....10]"
   ]
  },
  {
   "cell_type": "code",
   "execution_count": 58,
   "metadata": {},
   "outputs": [
    {
     "data": {
      "text/plain": [
       "'c'"
      ]
     },
     "execution_count": 58,
     "metadata": {},
     "output_type": "execute_result"
    }
   ],
   "source": [
    "#Indexing \n",
    "s[0]"
   ]
  },
  {
   "cell_type": "code",
   "execution_count": 59,
   "metadata": {},
   "outputs": [
    {
     "data": {
      "text/plain": [
       "'code'"
      ]
     },
     "execution_count": 59,
     "metadata": {},
     "output_type": "execute_result"
    }
   ],
   "source": [
    "s[0:4]"
   ]
  },
  {
   "cell_type": "markdown",
   "metadata": {},
   "source": [
    "### Reverse"
   ]
  },
  {
   "cell_type": "code",
   "execution_count": 64,
   "metadata": {},
   "outputs": [],
   "source": [
    "s1='Happy Coding'\n",
    "# should print \n",
    "\n",
    "# 1.approach \n",
    "size=len(s1)\n",
    "# new array s2\n",
    "s2=[0]*(size)"
   ]
  },
  {
   "cell_type": "code",
   "execution_count": 65,
   "metadata": {},
   "outputs": [
    {
     "data": {
      "text/plain": [
       "[0, 0, 0, 0, 0, 0, 0, 0, 0, 0, 0, 0]"
      ]
     },
     "execution_count": 65,
     "metadata": {},
     "output_type": "execute_result"
    }
   ],
   "source": [
    "s2"
   ]
  },
  {
   "cell_type": "code",
   "execution_count": 71,
   "metadata": {},
   "outputs": [
    {
     "name": "stdout",
     "output_type": "stream",
     "text": [
      "gnidoC yppaH\n"
     ]
    }
   ],
   "source": [
    "i=0\n",
    "while(i!=size):\n",
    "    s2[size-i-1]=s1[i]\n",
    "    i+=1\n",
    "print(\"\".join(s2))\n",
    "    "
   ]
  },
  {
   "cell_type": "code",
   "execution_count": 73,
   "metadata": {},
   "outputs": [],
   "source": [
    "## 2.approach using python methods"
   ]
  },
  {
   "cell_type": "code",
   "execution_count": 75,
   "metadata": {},
   "outputs": [
    {
     "name": "stdout",
     "output_type": "stream",
     "text": [
      "gnidoC yppaH\n"
     ]
    }
   ],
   "source": [
    "print(\"\".join(reversed(s1)))"
   ]
  },
  {
   "cell_type": "code",
   "execution_count": 76,
   "metadata": {},
   "outputs": [
    {
     "name": "stdout",
     "output_type": "stream",
     "text": [
      "gnidoC yppaH\n"
     ]
    }
   ],
   "source": [
    "print(s1[::-1])"
   ]
  },
  {
   "cell_type": "code",
   "execution_count": 77,
   "metadata": {},
   "outputs": [
    {
     "name": "stdout",
     "output_type": "stream",
     "text": [
      "gnidoC yppaH\n"
     ]
    }
   ],
   "source": [
    "new=\"\"\n",
    "for i in s1:\n",
    "    new=i+new\n",
    "print(new)"
   ]
  },
  {
   "cell_type": "code",
   "execution_count": 81,
   "metadata": {},
   "outputs": [],
   "source": [
    "# 3.Using the Recursive method\n",
    "str_rev=lambda x:x if len(x)==0 else  str_rev(x[1:])+x[0]\n"
   ]
  },
  {
   "cell_type": "code",
   "execution_count": 82,
   "metadata": {},
   "outputs": [
    {
     "data": {
      "text/plain": [
       "'gnidoC yppaH'"
      ]
     },
     "execution_count": 82,
     "metadata": {},
     "output_type": "execute_result"
    }
   ],
   "source": [
    "str_rev(s1)"
   ]
  },
  {
   "cell_type": "code",
   "execution_count": 83,
   "metadata": {},
   "outputs": [],
   "source": [
    "# # 4.using the Stack"
   ]
  },
  {
   "cell_type": "code",
   "execution_count": 93,
   "metadata": {},
   "outputs": [
    {
     "name": "stdout",
     "output_type": "stream",
     "text": [
      "['H', 'a', 'p', 'p', 'y', ' ', 'C', 'o', 'd', 'i', 'n', 'g']\n"
     ]
    },
    {
     "data": {
      "text/plain": [
       "'gnidoC yppaH'"
      ]
     },
     "execution_count": 93,
     "metadata": {},
     "output_type": "execute_result"
    }
   ],
   "source": [
    "class Stack:\n",
    "    def __init__(self):\n",
    "        self.lst=[]\n",
    "    def push(self,s):\n",
    "        for i in s:\n",
    "            self.lst.append(i)\n",
    "    def pop(self):\n",
    "        s=\"\"\n",
    "        print(self.lst)\n",
    "        for i in range(len(self.lst)):\n",
    "            s=s+self.lst.pop()\n",
    "        return s\n",
    "\n",
    "    \n",
    "s=Stack()\n",
    "s.push(s1)\n",
    "s.pop()"
   ]
  },
  {
   "cell_type": "markdown",
   "metadata": {},
   "source": [
    "### Palindrome"
   ]
  },
  {
   "cell_type": "code",
   "execution_count": 94,
   "metadata": {},
   "outputs": [],
   "source": [
    "# A Word  which Read Both Ways same \n",
    "# CIVIC ,MOM,RADAR,LEVEL\n"
   ]
  },
  {
   "cell_type": "code",
   "execution_count": 95,
   "metadata": {},
   "outputs": [],
   "source": [
    "s1=\"CIVIC\""
   ]
  },
  {
   "cell_type": "code",
   "execution_count": 97,
   "metadata": {},
   "outputs": [],
   "source": [
    "# 1.reverse it and comapre with orginal\n",
    "rev_s1=s1[::-1]"
   ]
  },
  {
   "cell_type": "code",
   "execution_count": 104,
   "metadata": {},
   "outputs": [],
   "source": [
    "def check(s1,s2):\n",
    "    if s1==s2:\n",
    "        print(\"Palindrome\")\n",
    "    else:\n",
    "        print(\"Not a Palindrome\")\n"
   ]
  },
  {
   "cell_type": "code",
   "execution_count": 105,
   "metadata": {},
   "outputs": [
    {
     "name": "stdout",
     "output_type": "stream",
     "text": [
      "Palindrome\n"
     ]
    }
   ],
   "source": [
    "check(s1,rev_s1)"
   ]
  },
  {
   "cell_type": "code",
   "execution_count": 109,
   "metadata": {},
   "outputs": [
    {
     "name": "stdout",
     "output_type": "stream",
     "text": [
      "Not a Palindrome\n"
     ]
    }
   ],
   "source": [
    "# case 2\n",
    "s1='too hot to hoot'\n",
    "rev_s1=s1[::-1]\n",
    "check(s1,rev_s1)"
   ]
  },
  {
   "cell_type": "code",
   "execution_count": 117,
   "metadata": {},
   "outputs": [],
   "source": [
    "# In this case remove the white Space before Reversing\n",
    "s1='too hot to hoot'"
   ]
  },
  {
   "cell_type": "code",
   "execution_count": 119,
   "metadata": {},
   "outputs": [
    {
     "name": "stdout",
     "output_type": "stream",
     "text": [
      "Palindrome\n"
     ]
    }
   ],
   "source": [
    "s1=s1.replace(\" \",\"\")\n",
    "rev_s1=s1[::-1]\n",
    "check(s1,rev_s1)"
   ]
  },
  {
   "cell_type": "code",
   "execution_count": 124,
   "metadata": {},
   "outputs": [
    {
     "data": {
      "text/plain": [
       "67"
      ]
     },
     "execution_count": 124,
     "metadata": {},
     "output_type": "execute_result"
    }
   ],
   "source": [
    "ord('A')+2"
   ]
  },
  {
   "cell_type": "markdown",
   "metadata": {},
   "source": [
    "### Lower case and Upper case Conversion"
   ]
  },
  {
   "cell_type": "code",
   "execution_count": 137,
   "metadata": {},
   "outputs": [
    {
     "name": "stdout",
     "output_type": "stream",
     "text": [
      "ABCDEFGHIJKLMNOPQRSTUVWXYZ"
     ]
    }
   ],
   "source": [
    "for i in range(65,91):\n",
    "    print(chr(i),end=\"\")"
   ]
  },
  {
   "cell_type": "code",
   "execution_count": 147,
   "metadata": {},
   "outputs": [],
   "source": [
    "# lowercase-32=uppercase\n",
    "# uppercase+32=lowercase\n",
    "s1=\"spyder lies\""
   ]
  },
  {
   "cell_type": "code",
   "execution_count": 146,
   "metadata": {},
   "outputs": [
    {
     "data": {
      "text/plain": [
       "'a'"
      ]
     },
     "execution_count": 146,
     "metadata": {},
     "output_type": "execute_result"
    }
   ],
   "source": [
    "chr(ord('A')+32)"
   ]
  },
  {
   "cell_type": "code",
   "execution_count": 148,
   "metadata": {},
   "outputs": [
    {
     "data": {
      "text/plain": [
       "'A'"
      ]
     },
     "execution_count": 148,
     "metadata": {},
     "output_type": "execute_result"
    }
   ],
   "source": [
    "chr(ord('a')-32)"
   ]
  },
  {
   "cell_type": "code",
   "execution_count": 151,
   "metadata": {},
   "outputs": [],
   "source": [
    "new=\"\"\n",
    "for i in s1:\n",
    "    new+=chr(ord(i)-32)\n",
    "    "
   ]
  },
  {
   "cell_type": "code",
   "execution_count": 153,
   "metadata": {},
   "outputs": [
    {
     "name": "stdout",
     "output_type": "stream",
     "text": [
      "SPYDER\u0000LIES\n"
     ]
    }
   ],
   "source": [
    "print(new)"
   ]
  },
  {
   "cell_type": "code",
   "execution_count": 191,
   "metadata": {},
   "outputs": [
    {
     "name": "stdout",
     "output_type": "stream",
     "text": [
      "spyderlies\n"
     ]
    }
   ],
   "source": [
    "# Case 2\n",
    "s2='SPYDERLIES'\n",
    "new=\"\"\n",
    "for i in s2:\n",
    "    new+=chr(ord(i)+32)\n",
    "print(new)\n"
   ]
  },
  {
   "cell_type": "code",
   "execution_count": 192,
   "metadata": {},
   "outputs": [],
   "source": [
    "# Using the Python Methods"
   ]
  },
  {
   "cell_type": "code",
   "execution_count": 195,
   "metadata": {},
   "outputs": [
    {
     "data": {
      "text/plain": [
       "'SPYDER LIES'"
      ]
     },
     "execution_count": 195,
     "metadata": {},
     "output_type": "execute_result"
    }
   ],
   "source": [
    "s1.upper()"
   ]
  },
  {
   "cell_type": "code",
   "execution_count": 197,
   "metadata": {},
   "outputs": [
    {
     "data": {
      "text/plain": [
       "'spyderlies'"
      ]
     },
     "execution_count": 197,
     "metadata": {},
     "output_type": "execute_result"
    }
   ],
   "source": [
    "s2.lower()"
   ]
  },
  {
   "cell_type": "markdown",
   "metadata": {},
   "source": [
    "### Vowels and consotants count"
   ]
  },
  {
   "cell_type": "code",
   "execution_count": 233,
   "metadata": {},
   "outputs": [
    {
     "name": "stdout",
     "output_type": "stream",
     "text": [
      "7 13 5\n"
     ]
    }
   ],
   "source": [
    "v_count=0\n",
    "c_count=0\n",
    "s_count=0\n",
    "s='towards Data Science#cs18'\n",
    "for c in s:\n",
    "#     print()\n",
    "    if((c>='A' and c<='Z') or (c>='a' and c<='z')):\n",
    "        if c in \"aeiouAEIOU\":\n",
    "            v_count+=1\n",
    "        else:\n",
    "            c_count+=1\n",
    "    else:\n",
    "        s_count+=1\n",
    "print(v_count,c_count,s_count)\n"
   ]
  },
  {
   "cell_type": "markdown",
   "metadata": {},
   "source": [
    "### Anagrams"
   ]
  },
  {
   "cell_type": "code",
   "execution_count": 239,
   "metadata": {},
   "outputs": [],
   "source": [
    "# LISTEN and SILENT\n",
    "#word have same letters\n",
    "#1. Sort and Compare\n",
    "s1=\"LISTEN\" \n",
    "s2='SILENT'"
   ]
  },
  {
   "cell_type": "code",
   "execution_count": 240,
   "metadata": {},
   "outputs": [
    {
     "data": {
      "text/plain": [
       "False"
      ]
     },
     "execution_count": 240,
     "metadata": {},
     "output_type": "execute_result"
    }
   ],
   "source": [
    "s1==s2"
   ]
  },
  {
   "cell_type": "code",
   "execution_count": 242,
   "metadata": {},
   "outputs": [],
   "source": [
    "s1=\"\".join(sorted(s1))\n",
    "s2=\"\".join(sorted(s2))"
   ]
  },
  {
   "cell_type": "code",
   "execution_count": 245,
   "metadata": {},
   "outputs": [],
   "source": [
    "# Compare"
   ]
  },
  {
   "cell_type": "code",
   "execution_count": 246,
   "metadata": {},
   "outputs": [
    {
     "name": "stdout",
     "output_type": "stream",
     "text": [
      "Anagrams\n"
     ]
    }
   ],
   "source": [
    "if s1==s2:\n",
    "    print(\"Anagrams\")\n",
    "else:\n",
    "    print(\"NOT Anagrams\")"
   ]
  },
  {
   "cell_type": "markdown",
   "metadata": {},
   "source": [
    "### PanGrams"
   ]
  },
  {
   "cell_type": "code",
   "execution_count": 328,
   "metadata": {},
   "outputs": [
    {
     "data": {
      "text/plain": [
       "'THEQUICKBROWNFOXJUMPSOVERALAZYDOG'"
      ]
     },
     "execution_count": 328,
     "metadata": {},
     "output_type": "execute_result"
    }
   ],
   "source": [
    "s='The quick brown fox jumps over a lazy dog'.upper()\n",
    "s=s.replace(\" \",\"\")\n",
    "s\n",
    "# len(s)"
   ]
  },
  {
   "cell_type": "code",
   "execution_count": 316,
   "metadata": {},
   "outputs": [
    {
     "data": {
      "text/plain": [
       "'THE QUICK BROWN FOX JUMPS OVER A LAZY DOG'"
      ]
     },
     "execution_count": 316,
     "metadata": {},
     "output_type": "execute_result"
    }
   ],
   "source": [
    "s"
   ]
  },
  {
   "cell_type": "code",
   "execution_count": 329,
   "metadata": {},
   "outputs": [],
   "source": [
    "# Approach 1: use Array to store the count \n",
    "# If the count of all indexes were One's then it is Pangrams\n",
    "# Covert to Upper case and remove white spaces"
   ]
  },
  {
   "cell_type": "code",
   "execution_count": 330,
   "metadata": {},
   "outputs": [
    {
     "data": {
      "text/plain": [
       "[0, 0, 0, 0, 0, 0, 0, 0, 0, 0, 0, 0, 0, 0, 0, 0, 0, 0, 0, 0, 0, 0, 0, 0, 0, 0]"
      ]
     },
     "execution_count": 330,
     "metadata": {},
     "output_type": "execute_result"
    }
   ],
   "source": [
    "arr=[0]*26\n",
    "arr"
   ]
  },
  {
   "cell_type": "code",
   "execution_count": 331,
   "metadata": {},
   "outputs": [],
   "source": [
    "for i in range(len(s)):\n",
    "    ind=ord(s[i])-65\n",
    "    arr[ind]=1\n",
    "    "
   ]
  },
  {
   "cell_type": "code",
   "execution_count": 332,
   "metadata": {},
   "outputs": [
    {
     "name": "stdout",
     "output_type": "stream",
     "text": [
      "Pangram\n"
     ]
    }
   ],
   "source": [
    "for i in arr:\n",
    "    if i==1:\n",
    "        continue\n",
    "    else:\n",
    "        print(\"not a pangram\")\n",
    "        break\n",
    "else:\n",
    "    print(\"Pangram\")"
   ]
  },
  {
   "cell_type": "markdown",
   "metadata": {},
   "source": [
    "### Hashmap's"
   ]
  },
  {
   "cell_type": "code",
   "execution_count": 343,
   "metadata": {},
   "outputs": [],
   "source": [
    "s=\"ARDHYA\"\n",
    "hmap={}"
   ]
  },
  {
   "cell_type": "code",
   "execution_count": 344,
   "metadata": {},
   "outputs": [],
   "source": [
    "for i in s:\n",
    "    if i not in hmap:\n",
    "        hmap[i]=1\n",
    "    else:\n",
    "        hmap[i]+=1"
   ]
  },
  {
   "cell_type": "code",
   "execution_count": 345,
   "metadata": {},
   "outputs": [
    {
     "data": {
      "text/plain": [
       "{'A': 2, 'R': 1, 'D': 1, 'H': 1, 'Y': 1}"
      ]
     },
     "execution_count": 345,
     "metadata": {},
     "output_type": "execute_result"
    }
   ],
   "source": [
    "hmap"
   ]
  },
  {
   "cell_type": "code",
   "execution_count": 346,
   "metadata": {},
   "outputs": [
    {
     "name": "stdout",
     "output_type": "stream",
     "text": [
      "A\n",
      "R\n",
      "D\n",
      "H\n",
      "Y\n"
     ]
    }
   ],
   "source": [
    "for i in hmap:\n",
    "    print(i)"
   ]
  },
  {
   "cell_type": "code",
   "execution_count": 352,
   "metadata": {},
   "outputs": [
    {
     "name": "stdout",
     "output_type": "stream",
     "text": [
      "A 2\n",
      "R 1\n",
      "D 1\n",
      "H 1\n",
      "Y 1\n"
     ]
    }
   ],
   "source": [
    "for k,v in hmap.items():\n",
    "    print(k,v)"
   ]
  },
  {
   "cell_type": "markdown",
   "metadata": {},
   "source": [
    "### Unique Characters in a String"
   ]
  },
  {
   "cell_type": "code",
   "execution_count": 353,
   "metadata": {},
   "outputs": [],
   "source": [
    "s1=\"sillyspiders\".upper()\n",
    "s2=\"spiderman\".upper()"
   ]
  },
  {
   "cell_type": "code",
   "execution_count": 357,
   "metadata": {},
   "outputs": [],
   "source": [
    "def unq(s):\n",
    "    hmap={}\n",
    "    for i in s:\n",
    "        if i not in hmap:\n",
    "            hmap[i]=1\n",
    "        else:\n",
    "            hmap[i]+=1\n",
    "    for k,v in hmap.items():\n",
    "        if(v>1):\n",
    "            print(\"not unique\")\n",
    "            break\n",
    "    else:\n",
    "        print(\"Unique\")\n",
    "\n",
    "        "
   ]
  },
  {
   "cell_type": "code",
   "execution_count": 358,
   "metadata": {},
   "outputs": [
    {
     "name": "stdout",
     "output_type": "stream",
     "text": [
      "not unique\n"
     ]
    }
   ],
   "source": [
    "unq(s1)"
   ]
  },
  {
   "cell_type": "code",
   "execution_count": 359,
   "metadata": {},
   "outputs": [
    {
     "name": "stdout",
     "output_type": "stream",
     "text": [
      "Unique\n"
     ]
    }
   ],
   "source": [
    "unq(s2)"
   ]
  },
  {
   "cell_type": "markdown",
   "metadata": {},
   "source": [
    "### Display all the Unique Charater\n"
   ]
  },
  {
   "cell_type": "code",
   "execution_count": 396,
   "metadata": {},
   "outputs": [],
   "source": [
    "def unq(s):\n",
    "    hmap={}\n",
    "    for i in s:\n",
    "        if i not in hmap:\n",
    "            hmap[i]=1\n",
    "        else:\n",
    "            hmap[i]+=1\n",
    "    n_c=0\n",
    "    for k,v in hmap.items():\n",
    "        if(v==1):\n",
    "            n_c+=1\n",
    "            print(k,end=\" \")\n",
    "    return f\"unique characters count {n_c}\""
   ]
  },
  {
   "cell_type": "code",
   "execution_count": 397,
   "metadata": {},
   "outputs": [],
   "source": [
    "s1=\"sillyspiders\".upper()\n",
    "s2=\"spiderman\".upper()"
   ]
  },
  {
   "cell_type": "code",
   "execution_count": 399,
   "metadata": {},
   "outputs": [
    {
     "name": "stdout",
     "output_type": "stream",
     "text": [
      "S P I D E R M A N "
     ]
    },
    {
     "data": {
      "text/plain": [
       "'unique characters count 9'"
      ]
     },
     "execution_count": 399,
     "metadata": {},
     "output_type": "execute_result"
    }
   ],
   "source": [
    "unq(s2)"
   ]
  },
  {
   "cell_type": "markdown",
   "metadata": {},
   "source": [
    "### First non Repeating character"
   ]
  },
  {
   "cell_type": "code",
   "execution_count": 441,
   "metadata": {},
   "outputs": [],
   "source": [
    "def unq(s):\n",
    "    hmap={}\n",
    "    s=s.strip().replace(\" \",\"\").upper()\n",
    "    for i in s:\n",
    "        if i not in hmap:\n",
    "            hmap[i]=1\n",
    "        else:\n",
    "            hmap[i]+=1\n",
    "    n_c=0\n",
    "    for k,v in hmap.items():\n",
    "        if(v==1):\n",
    "            return k\n"
   ]
  },
  {
   "cell_type": "code",
   "execution_count": 442,
   "metadata": {},
   "outputs": [],
   "source": [
    "s1=\"silly   spiders  \".strip().replace(\" \",\"\").upper()\n",
    "s2=\"spiderman\".strip().replace(\" \",\"\").upper()"
   ]
  },
  {
   "cell_type": "code",
   "execution_count": 443,
   "metadata": {},
   "outputs": [
    {
     "data": {
      "text/plain": [
       "'Y'"
      ]
     },
     "execution_count": 443,
     "metadata": {},
     "output_type": "execute_result"
    }
   ],
   "source": [
    "unq(s1)"
   ]
  },
  {
   "cell_type": "code",
   "execution_count": 446,
   "metadata": {},
   "outputs": [
    {
     "data": {
      "text/plain": [
       "'2'"
      ]
     },
     "execution_count": 446,
     "metadata": {},
     "output_type": "execute_result"
    }
   ],
   "source": [
    "unq(s2)\n",
    "unq('geeks for geeks')\n",
    "unq(\"12331\")"
   ]
  },
  {
   "cell_type": "markdown",
   "metadata": {},
   "source": [
    "### All non repeating Characters"
   ]
  },
  {
   "cell_type": "code",
   "execution_count": 447,
   "metadata": {},
   "outputs": [],
   "source": [
    "def unq(s):\n",
    "    hmap={}\n",
    "    s=s.strip().replace(\" \",\"\").upper()\n",
    "    for i in s:\n",
    "        if i not in hmap:\n",
    "            hmap[i]=1\n",
    "        else:\n",
    "            hmap[i]+=1\n",
    "    n_c=0\n",
    "    new=\"\"\n",
    "    for k,v in hmap.items():\n",
    "        if(v==1):\n",
    "            new+=k\n",
    "    return new\n"
   ]
  },
  {
   "cell_type": "code",
   "execution_count": 450,
   "metadata": {},
   "outputs": [
    {
     "data": {
      "text/plain": [
       "'YPDER'"
      ]
     },
     "execution_count": 450,
     "metadata": {},
     "output_type": "execute_result"
    }
   ],
   "source": [
    "s1=\"silly   spiders  \"\n",
    "s2=\"spiderman\".strip().replace(\" \",\"\").upper()\n",
    "unq(s1)\n"
   ]
  },
  {
   "cell_type": "code",
   "execution_count": 451,
   "metadata": {},
   "outputs": [
    {
     "data": {
      "text/plain": [
       "'SPIDERMAN'"
      ]
     },
     "execution_count": 451,
     "metadata": {},
     "output_type": "execute_result"
    }
   ],
   "source": [
    "unq(s2)"
   ]
  },
  {
   "cell_type": "markdown",
   "metadata": {},
   "source": [
    "### Max occuring character"
   ]
  },
  {
   "cell_type": "code",
   "execution_count": 463,
   "metadata": {},
   "outputs": [],
   "source": [
    "def unq(s):\n",
    "    hmap={}\n",
    "    s=s.strip().replace(\" \",\"\").upper()\n",
    "    for i in s:\n",
    "        if i not in hmap:\n",
    "            hmap[i]=1\n",
    "        else:\n",
    "            hmap[i]+=1\n",
    "    max_val=0\n",
    "    for k,v in hmap.items():\n",
    "        if(max_val<v):\n",
    "            max_val=v\n",
    "            max_k=k\n",
    "    return max_k,max_val"
   ]
  },
  {
   "cell_type": "code",
   "execution_count": 464,
   "metadata": {},
   "outputs": [
    {
     "data": {
      "text/plain": [
       "('E', 4)"
      ]
     },
     "execution_count": 464,
     "metadata": {},
     "output_type": "execute_result"
    }
   ],
   "source": [
    "unq('geeks for geeks')"
   ]
  },
  {
   "cell_type": "code",
   "execution_count": 465,
   "metadata": {},
   "outputs": [
    {
     "data": {
      "text/plain": [
       "('S', 3)"
      ]
     },
     "execution_count": 465,
     "metadata": {},
     "output_type": "execute_result"
    }
   ],
   "source": [
    "unq('silly spiders')"
   ]
  },
  {
   "cell_type": "code",
   "execution_count": 466,
   "metadata": {},
   "outputs": [
    {
     "data": {
      "text/plain": [
       "('I', 2)"
      ]
     },
     "execution_count": 466,
     "metadata": {},
     "output_type": "execute_result"
    }
   ],
   "source": [
    "unq('aNII')"
   ]
  },
  {
   "cell_type": "markdown",
   "metadata": {},
   "source": [
    "### Remove the Duplicate Characters"
   ]
  },
  {
   "cell_type": "code",
   "execution_count": 499,
   "metadata": {
    "code_folding": []
   },
   "outputs": [],
   "source": [
    "def unq(s):\n",
    "    hmap={}\n",
    "    s=s.strip().replace(\" \",\"\")\n",
    "    for i in s:\n",
    "        if i not in hmap:\n",
    "            hmap[i]=1\n",
    "        else:\n",
    "            hmap[i]+=1\n",
    "    new=\"\"\n",
    "    for k,v in hmap.items():\n",
    "        if(v==1):\n",
    "            new+=k\n",
    "    return new"
   ]
  },
  {
   "cell_type": "code",
   "execution_count": 501,
   "metadata": {},
   "outputs": [
    {
     "data": {
      "text/plain": [
       "'for'"
      ]
     },
     "execution_count": 501,
     "metadata": {},
     "output_type": "execute_result"
    }
   ],
   "source": [
    "unq('geeks for geeks')"
   ]
  },
  {
   "cell_type": "markdown",
   "metadata": {},
   "source": [
    "### Delete the All occurence of A string"
   ]
  },
  {
   "cell_type": "code",
   "execution_count": 526,
   "metadata": {},
   "outputs": [],
   "source": [
    "def unq(s,key):\n",
    "    new=\"\"\n",
    "    for i in s:\n",
    "        if i!=key:\n",
    "            new+=i\n",
    "    return new\n",
    "            "
   ]
  },
  {
   "cell_type": "code",
   "execution_count": 527,
   "metadata": {},
   "outputs": [
    {
     "data": {
      "text/plain": [
       "'eeks for eeks'"
      ]
     },
     "execution_count": 527,
     "metadata": {},
     "output_type": "execute_result"
    }
   ],
   "source": [
    "unq('geeks for geeks','g')"
   ]
  },
  {
   "cell_type": "markdown",
   "metadata": {},
   "source": [
    "### Rotation of string"
   ]
  },
  {
   "cell_type": "code",
   "execution_count": 539,
   "metadata": {},
   "outputs": [],
   "source": [
    "def rotate(s1,s2):\n",
    "    s3=s1+s2\n",
    "    print(s3)\n",
    "    \n",
    "    if(s3.find(s2)):\n",
    "        return True\n",
    "    else:\n",
    "        return False"
   ]
  },
  {
   "cell_type": "code",
   "execution_count": 540,
   "metadata": {},
   "outputs": [
    {
     "name": "stdout",
     "output_type": "stream",
     "text": [
      "eksforGeeksGeksGeeksforGee\n"
     ]
    },
    {
     "data": {
      "text/plain": [
       "True"
      ]
     },
     "execution_count": 540,
     "metadata": {},
     "output_type": "execute_result"
    }
   ],
   "source": [
    "rotate('eksforGeeksGe',\"ksGeeksforGee\")"
   ]
  },
  {
   "cell_type": "code",
   "execution_count": 542,
   "metadata": {},
   "outputs": [
    {
     "name": "stdout",
     "output_type": "stream",
     "text": [
      "Left Rotation :  eksforGeeksGe\n",
      "Right Rotation :  ksGeeksforGee\n"
     ]
    }
   ],
   "source": [
    "\n",
    "\n",
    "def rotate(input,d): \n",
    "\n",
    "\n",
    "\tLfirst = input[0 : d] \n",
    "\tLsecond = input[d :] \n",
    "\tRfirst = input[0 : len(input)-d] \n",
    "\tRsecond = input[len(input)-d : ] \n",
    "\n",
    " \n",
    "\tprint( \"Left Rotation : \", (Lsecond + Lfirst) )\n",
    "\tprint (\"Right Rotation : \", (Rsecond + Rfirst) )\n",
    "\n",
    "if __name__ == \"__main__\": \n",
    "\tinput = 'GeeksforGeeks'\n",
    "\td=2\n",
    "\trotate(input,d) \n"
   ]
  },
  {
   "cell_type": "markdown",
   "metadata": {},
   "source": [
    "### Group Anagrams"
   ]
  },
  {
   "cell_type": "code",
   "execution_count": 545,
   "metadata": {},
   "outputs": [
    {
     "name": "stdout",
     "output_type": "stream",
     "text": [
      "['bat', 'tab']\n",
      "['design', 'signed']\n",
      "['toc', 'cot']\n"
     ]
    }
   ],
   "source": [
    "def group_ana(words):\n",
    "\tarr=[\"\".join(sorted(w)) for w in words]\n",
    "# \tprint(arr)\n",
    "\td={}\n",
    "\tfor i,e in enumerate(arr):\n",
    "\t\td.setdefault(e,[]).append(i)\n",
    "# \tprint(d)\n",
    "\tfor index in d.values():\n",
    "\t\tprint([words[i] for i in index])\n",
    "\n",
    "group_ana([\"bat\",\"design\",\"toc\",\"cot\",\"signed\",\"tab\"])\n"
   ]
  },
  {
   "cell_type": "markdown",
   "metadata": {},
   "source": [
    "### Count the Number of Words in String"
   ]
  },
  {
   "cell_type": "code",
   "execution_count": 554,
   "metadata": {},
   "outputs": [],
   "source": [
    "def word(s):\n",
    "    s=s.split()\n",
    "    return len(s)"
   ]
  },
  {
   "cell_type": "code",
   "execution_count": 555,
   "metadata": {},
   "outputs": [
    {
     "data": {
      "text/plain": [
       "2"
      ]
     },
     "execution_count": 555,
     "metadata": {},
     "output_type": "execute_result"
    }
   ],
   "source": [
    "word(\"the god\")"
   ]
  },
  {
   "cell_type": "code",
   "execution_count": 556,
   "metadata": {},
   "outputs": [
    {
     "data": {
      "text/plain": [
       "['Geeksforgeeks,', 'is', 'best', '@#', 'Computer', 'Science', 'Portal.!!!']"
      ]
     },
     "execution_count": 556,
     "metadata": {},
     "output_type": "execute_result"
    }
   ],
   "source": [
    "test_string = \"Geeksforgeeks,    is best @# Computer Science Portal.!!!\"\n",
    "test_string.split()"
   ]
  },
  {
   "cell_type": "code",
   "execution_count": 570,
   "metadata": {},
   "outputs": [
    {
     "data": {
      "text/plain": [
       "6"
      ]
     },
     "execution_count": 570,
     "metadata": {},
     "output_type": "execute_result"
    }
   ],
   "source": [
    "import string\n",
    "res = sum([i.strip(string.punctuation).isalpha() for i in test_string.split()])\n",
    "res"
   ]
  },
  {
   "cell_type": "markdown",
   "metadata": {},
   "source": [
    "### Longest palindromic string"
   ]
  },
  {
   "cell_type": "code",
   "execution_count": 577,
   "metadata": {},
   "outputs": [],
   "source": [
    "def LPS(s):\n",
    "    if len(s)==0:\n",
    "        return \n",
    "    if len(s)==1:\n",
    "        return s\n",
    "    res=\"\"\n",
    "    for i in range(len(s)):\n",
    "        current=expand_around_middle(i-1,i+1,s)\n",
    "        in_between=expand_around_middle(i,i+1,s)\n",
    "        res=max(current,in_between,res,key=len)\n",
    "    return res\n",
    "def expand_around_middle(i,j,s):\n",
    "    while i>=0 and j<len(s) and s[i]==s[j]:\n",
    "        i-=1\n",
    "        j+=1\n",
    "    return s[i+1:j]"
   ]
  },
  {
   "cell_type": "code",
   "execution_count": 582,
   "metadata": {},
   "outputs": [
    {
     "data": {
      "text/plain": [
       "'BB'"
      ]
     },
     "execution_count": 582,
     "metadata": {},
     "output_type": "execute_result"
    }
   ],
   "source": [
    "LPS(\"ABB\")"
   ]
  },
  {
   "cell_type": "markdown",
   "metadata": {},
   "source": [
    "### Lexicographical "
   ]
  },
  {
   "cell_type": "code",
   "execution_count": 2,
   "metadata": {},
   "outputs": [],
   "source": [
    "def fac(n):\n",
    "    if n==0:\n",
    "        return 1\n",
    "    return n*fac(n-1)\n",
    "    "
   ]
  },
  {
   "cell_type": "code",
   "execution_count": 64,
   "metadata": {},
   "outputs": [],
   "source": [
    "def lexico(s):\n",
    "    n=len(s)\n",
    "    res=1\n",
    "    rank=0\n",
    "    m=fac(n)\n",
    "#     print(m)\n",
    "    count=[0]*256\n",
    "    for i in range(len(s)):\n",
    "        count[ord(s[i])]+=1\n",
    "\n",
    "    for i in range(1,256):\n",
    "        count[i]=count[i]+count[i-1]\n",
    "\n",
    "    for i in range(len(s)):\n",
    "#         print(m,count[ord(s[i])])\n",
    "        m=m/(n-i)\n",
    "        rank+=count[ord(s[i])-1]*m\n",
    "        for j in range(ord(s[i]),256):\n",
    "            count[j]-=1\n",
    "#         print(count)\n",
    "    return rank+res"
   ]
  },
  {
   "cell_type": "code",
   "execution_count": 66,
   "metadata": {},
   "outputs": [
    {
     "data": {
      "text/plain": [
       "598.0"
      ]
     },
     "execution_count": 66,
     "metadata": {},
     "output_type": "execute_result"
    }
   ],
   "source": [
    "lexico('string')"
   ]
  },
  {
   "cell_type": "markdown",
   "metadata": {},
   "source": [
    "### Pattern Search"
   ]
  },
  {
   "cell_type": "code",
   "execution_count": 129,
   "metadata": {},
   "outputs": [],
   "source": [
    "# txt=\"ABCABCD\"\n",
    "# pat=\"ABCD\"\n",
    "def patten_search(txt,pat):\n",
    "    n=len(txt)\n",
    "    m=len(pat)\n",
    "    for i in range(n):\n",
    "        for j in range(m):\n",
    "            if txt[i+j]!=pat[j]:\n",
    "                break\n",
    "        else:\n",
    "            return i\n",
    "        \n",
    "            \n",
    "    "
   ]
  },
  {
   "cell_type": "code",
   "execution_count": 130,
   "metadata": {},
   "outputs": [
    {
     "data": {
      "text/plain": [
       "3"
      ]
     },
     "execution_count": 130,
     "metadata": {},
     "output_type": "execute_result"
    }
   ],
   "source": [
    "patten_search(\"ABCABCD\",\"ABCD\")"
   ]
  },
  {
   "cell_type": "markdown",
   "metadata": {},
   "source": [
    "### Recursion"
   ]
  },
  {
   "cell_type": "code",
   "execution_count": 1,
   "metadata": {},
   "outputs": [],
   "source": [
    "def f(n):\n",
    "    if n==0:\n",
    "        return 1\n",
    "    return n*f(n-1)"
   ]
  },
  {
   "cell_type": "code",
   "execution_count": 3,
   "metadata": {},
   "outputs": [
    {
     "data": {
      "text/plain": [
       "120"
      ]
     },
     "execution_count": 3,
     "metadata": {},
     "output_type": "execute_result"
    }
   ],
   "source": [
    "f(5)"
   ]
  },
  {
   "cell_type": "code",
   "execution_count": 9,
   "metadata": {},
   "outputs": [],
   "source": [
    "def fib(n):\n",
    "    if n==0 or n==1:\n",
    "        return n\n",
    "    return fib(n-1)+fib(n-2)\n"
   ]
  },
  {
   "cell_type": "code",
   "execution_count": 11,
   "metadata": {},
   "outputs": [
    {
     "data": {
      "text/plain": [
       "5"
      ]
     },
     "execution_count": 11,
     "metadata": {},
     "output_type": "execute_result"
    }
   ],
   "source": [
    "fib(5)"
   ]
  },
  {
   "cell_type": "code",
   "execution_count": 14,
   "metadata": {},
   "outputs": [],
   "source": [
    "def sm(n):\n",
    "    if n<10:\n",
    "        return n\n",
    "    return sm(n//10)+n%10"
   ]
  },
  {
   "cell_type": "code",
   "execution_count": 15,
   "metadata": {},
   "outputs": [
    {
     "data": {
      "text/plain": [
       "18"
      ]
     },
     "execution_count": 15,
     "metadata": {},
     "output_type": "execute_result"
    }
   ],
   "source": [
    "sm(3096)"
   ]
  },
  {
   "cell_type": "code",
   "execution_count": 21,
   "metadata": {},
   "outputs": [
    {
     "data": {
      "text/plain": [
       "(309, 30, 3, 0, 9, 6)"
      ]
     },
     "execution_count": 21,
     "metadata": {},
     "output_type": "execute_result"
    }
   ],
   "source": [
    "3096//10,309//10,30//10,30%10,309%10,3096%10"
   ]
  },
  {
   "cell_type": "code",
   "execution_count": 52,
   "metadata": {},
   "outputs": [],
   "source": [
    "def f(n):\n",
    "    if n<1:\n",
    "        return 1\n",
    "    print(n*(n-1))\n",
    "    return f(n-1)*n\n",
    "    "
   ]
  },
  {
   "cell_type": "code",
   "execution_count": 53,
   "metadata": {},
   "outputs": [
    {
     "name": "stdout",
     "output_type": "stream",
     "text": [
      "6\n",
      "2\n",
      "0\n"
     ]
    },
    {
     "data": {
      "text/plain": [
       "6"
      ]
     },
     "execution_count": 53,
     "metadata": {},
     "output_type": "execute_result"
    }
   ],
   "source": []
  },
  {
   "cell_type": "code",
   "execution_count": 63,
   "metadata": {},
   "outputs": [],
   "source": [
    "def f1(n,k=1):\n",
    "    if n<1:\n",
    "        return \n",
    "    print(k)\n",
    "        \n",
    "    f1(n-1,k+1)"
   ]
  },
  {
   "cell_type": "code",
   "execution_count": 65,
   "metadata": {},
   "outputs": [
    {
     "name": "stdout",
     "output_type": "stream",
     "text": [
      "1\n",
      "2\n",
      "3\n"
     ]
    }
   ],
   "source": [
    "f1(3)"
   ]
  },
  {
   "cell_type": "code",
   "execution_count": 58,
   "metadata": {},
   "outputs": [],
   "source": [
    "def pal(st,s,e):\n",
    "    if s==e:\n",
    "        return True\n",
    "    if(s>e):\n",
    "        return True\n",
    "    if(st[s]!=st[e]):\n",
    "        return False\n",
    "    return pal(str,s+1,e-1)"
   ]
  },
  {
   "cell_type": "code",
   "execution_count": 60,
   "metadata": {},
   "outputs": [
    {
     "data": {
      "text/plain": [
       "True"
      ]
     },
     "execution_count": 60,
     "metadata": {},
     "output_type": "execute_result"
    }
   ],
   "source": [
    "pal('ABA',0,2)"
   ]
  },
  {
   "cell_type": "code",
   "execution_count": 68,
   "metadata": {},
   "outputs": [],
   "source": [
    "def fact_tail(n,val=1):\n",
    "    print(val)\n",
    "    if n==0:\n",
    "        return val\n",
    "    return fact_tail(n-1,n*val)"
   ]
  },
  {
   "cell_type": "code",
   "execution_count": 69,
   "metadata": {},
   "outputs": [
    {
     "name": "stdout",
     "output_type": "stream",
     "text": [
      "1\n",
      "4\n",
      "12\n",
      "24\n",
      "24\n"
     ]
    },
    {
     "data": {
      "text/plain": [
       "24"
      ]
     },
     "execution_count": 69,
     "metadata": {},
     "output_type": "execute_result"
    }
   ],
   "source": [
    "fact_tail(4)"
   ]
  },
  {
   "cell_type": "code",
   "execution_count": 86,
   "metadata": {},
   "outputs": [],
   "source": [
    "def rod_cut(n,a,b,c):\n",
    "    if(n==0):return 0\n",
    "    if(n<1):return -1\n",
    "    \n",
    "    res=max(rod_cut(n-a,a,b,c),rod_cut(n-b,a,b,c),rod_cut(n-c,a,b,c))\n",
    "    print(res)\n",
    "    return res+1\n"
   ]
  },
  {
   "cell_type": "code",
   "execution_count": 88,
   "metadata": {},
   "outputs": [
    {
     "name": "stdout",
     "output_type": "stream",
     "text": [
      "0\n",
      "0\n",
      "1\n",
      "2\n",
      "0\n",
      "1\n",
      "0\n",
      "0\n",
      "1\n",
      "2\n",
      "3\n",
      "4\n"
     ]
    },
    {
     "data": {
      "text/plain": [
       "5"
      ]
     },
     "execution_count": 88,
     "metadata": {},
     "output_type": "execute_result"
    }
   ],
   "source": [
    "rod_cut(5,2,1,5)"
   ]
  },
  {
   "cell_type": "code",
   "execution_count": 129,
   "metadata": {},
   "outputs": [],
   "source": [
    "def rec_str(s,ind,cur=\"\"):\n",
    "    if ind==len(s):\n",
    "        print(ind,cur)\n",
    "        return \n",
    "    rec_str(s,ind+1,cur)    \n",
    "    rec_str(s,ind+1,cur+s[ind])\n"
   ]
  },
  {
   "cell_type": "code",
   "execution_count": 130,
   "metadata": {},
   "outputs": [
    {
     "name": "stdout",
     "output_type": "stream",
     "text": [
      "3 \n",
      "3 C\n",
      "3 B\n",
      "3 BC\n",
      "3 A\n",
      "3 AC\n",
      "3 AB\n",
      "3 ABC\n"
     ]
    }
   ],
   "source": [
    "rec_str(\"ABC\",0)"
   ]
  },
  {
   "cell_type": "code",
   "execution_count": 7,
   "metadata": {},
   "outputs": [],
   "source": [
    "def tree(n):\n",
    "    if n>0:\n",
    "        print(n)\n",
    "        tree(n-1)\n",
    "        tree(n-1)\n"
   ]
  },
  {
   "cell_type": "code",
   "execution_count": 8,
   "metadata": {},
   "outputs": [
    {
     "name": "stdout",
     "output_type": "stream",
     "text": [
      "3\n",
      "2\n",
      "1\n",
      "1\n",
      "2\n",
      "1\n",
      "1\n"
     ]
    }
   ],
   "source": [
    "tree(3)"
   ]
  },
  {
   "cell_type": "code",
   "execution_count": 9,
   "metadata": {},
   "outputs": [],
   "source": [
    "def indirect(n):\n",
    "    if n>0:\n",
    "        print(n)\n",
    "        indirect1(n-1)\n",
    "def indirect1(n):\n",
    "    if n>1:\n",
    "        print(n)\n",
    "        indirect(n//2)\n",
    "        "
   ]
  },
  {
   "cell_type": "code",
   "execution_count": 10,
   "metadata": {},
   "outputs": [
    {
     "data": {
      "text/plain": [
       "9"
      ]
     },
     "execution_count": 10,
     "metadata": {},
     "output_type": "execute_result"
    }
   ],
   "source": [
    "19//2"
   ]
  },
  {
   "cell_type": "code",
   "execution_count": 13,
   "metadata": {},
   "outputs": [],
   "source": [
    "def nested(n):\n",
    "    if n>100:\n",
    "        return n-10\n",
    "    else:\n",
    "        return nested(nested(n+11))"
   ]
  },
  {
   "cell_type": "code",
   "execution_count": 14,
   "metadata": {},
   "outputs": [
    {
     "data": {
      "text/plain": [
       "91"
      ]
     },
     "execution_count": 14,
     "metadata": {},
     "output_type": "execute_result"
    }
   ],
   "source": [
    "nested(95)"
   ]
  },
  {
   "cell_type": "code",
   "execution_count": 17,
   "metadata": {},
   "outputs": [],
   "source": [
    "def power(m,n):\n",
    "    if n==0:\n",
    "        return 1\n",
    "    return power(m,n-1)*m"
   ]
  },
  {
   "cell_type": "code",
   "execution_count": 18,
   "metadata": {},
   "outputs": [
    {
     "data": {
      "text/plain": [
       "8"
      ]
     },
     "execution_count": 18,
     "metadata": {},
     "output_type": "execute_result"
    }
   ],
   "source": [
    "power(2,3)"
   ]
  },
  {
   "cell_type": "code",
   "execution_count": 19,
   "metadata": {},
   "outputs": [],
   "source": [
    "def power(m,n):\n",
    "    if n==0:\n",
    "        return 1\n",
    "    if n%2==0:\n",
    "        return power(m*m,n//2)\n",
    "    \n",
    "    else:\n",
    "        return m*power(m*m,(n-1)//2)"
   ]
  },
  {
   "cell_type": "code",
   "execution_count": 20,
   "metadata": {},
   "outputs": [
    {
     "data": {
      "text/plain": [
       "16"
      ]
     },
     "execution_count": 20,
     "metadata": {},
     "output_type": "execute_result"
    }
   ],
   "source": [
    "power(2,4)"
   ]
  },
  {
   "cell_type": "code",
   "execution_count": 79,
   "metadata": {},
   "outputs": [],
   "source": [
    "class ts:\n",
    "    p=1\n",
    "    f=1\n",
    "#     //class or static\n",
    "    def __init__(self):\n",
    "        pass\n",
    "    def e(self,x,n):\n",
    "#         local variable \n",
    "        if n==0:\n",
    "            return 1\n",
    "        r=self.e(x,n-1)\n",
    "        ts.p=self.p*x\n",
    "        ts.f=self.f*n\n",
    "        return r+ts.p/ts.f\n",
    "        "
   ]
  },
  {
   "cell_type": "code",
   "execution_count": 80,
   "metadata": {},
   "outputs": [],
   "source": [
    "s=ts()"
   ]
  },
  {
   "cell_type": "code",
   "execution_count": 81,
   "metadata": {},
   "outputs": [
    {
     "data": {
      "text/plain": [
       "2.5"
      ]
     },
     "execution_count": 81,
     "metadata": {},
     "output_type": "execute_result"
    }
   ],
   "source": [
    "s.e(1,2)"
   ]
  },
  {
   "cell_type": "code",
   "execution_count": 64,
   "metadata": {},
   "outputs": [
    {
     "data": {
      "text/plain": [
       "1.027960433773119"
      ]
     },
     "execution_count": 64,
     "metadata": {},
     "output_type": "execute_result"
    }
   ],
   "source": [
    "s.e(1,10)"
   ]
  },
  {
   "cell_type": "code",
   "execution_count": 94,
   "metadata": {},
   "outputs": [
    {
     "data": {
      "text/plain": [
       "2.5"
      ]
     },
     "execution_count": 94,
     "metadata": {},
     "output_type": "execute_result"
    }
   ],
   "source": [
    "s=1\n",
    "\n",
    "x=1\n",
    "n=2\n",
    "for n in range(n,0,-1):\n",
    "    s=1+(x/n)*s\n",
    "s"
   ]
  },
  {
   "cell_type": "code",
   "execution_count": 95,
   "metadata": {},
   "outputs": [
    {
     "data": {
      "text/plain": [
       "0.16666666666666666"
      ]
     },
     "execution_count": 95,
     "metadata": {},
     "output_type": "execute_result"
    }
   ],
   "source": [
    "1/6"
   ]
  },
  {
   "cell_type": "code",
   "execution_count": 77,
   "metadata": {},
   "outputs": [
    {
     "data": {
      "text/plain": [
       "1.3333333333333333"
      ]
     },
     "execution_count": 77,
     "metadata": {},
     "output_type": "execute_result"
    }
   ],
   "source": [
    "1+(1/3)*1"
   ]
  },
  {
   "cell_type": "code",
   "execution_count": 83,
   "metadata": {},
   "outputs": [
    {
     "data": {
      "text/plain": [
       "2.5"
      ]
     },
     "execution_count": 83,
     "metadata": {},
     "output_type": "execute_result"
    }
   ],
   "source": [
    "1+(1/1)*(1+1/2)"
   ]
  },
  {
   "cell_type": "code",
   "execution_count": 85,
   "metadata": {},
   "outputs": [
    {
     "data": {
      "text/plain": [
       "1.5"
      ]
     },
     "execution_count": 85,
     "metadata": {},
     "output_type": "execute_result"
    }
   ],
   "source": [
    "(1+1/2)"
   ]
  },
  {
   "cell_type": "code",
   "execution_count": 87,
   "metadata": {},
   "outputs": [
    {
     "data": {
      "text/plain": [
       "2.5"
      ]
     },
     "execution_count": 87,
     "metadata": {},
     "output_type": "execute_result"
    }
   ],
   "source": [
    "1+(1/1)*1.5"
   ]
  },
  {
   "cell_type": "code",
   "execution_count": 101,
   "metadata": {},
   "outputs": [],
   "source": [
    "F=[-1]*10\n",
    "def fib(n):\n",
    "    if n<=1:\n",
    "        F[n]=n\n",
    "        return n\n",
    "    else:\n",
    "        if (F[n-2]==-1):\n",
    "            F[n-2]=fib(n-2)\n",
    "        if (F[n-1]==-1):\n",
    "            F[n-1]=fib(n-1)\n",
    "        return F[n-1]+F[n-2]\n",
    "            \n",
    "    \n",
    "    "
   ]
  },
  {
   "cell_type": "code",
   "execution_count": 102,
   "metadata": {},
   "outputs": [
    {
     "data": {
      "text/plain": [
       "3"
      ]
     },
     "execution_count": 102,
     "metadata": {},
     "output_type": "execute_result"
    }
   ],
   "source": [
    "fib(4)"
   ]
  },
  {
   "cell_type": "code",
   "execution_count": 103,
   "metadata": {},
   "outputs": [],
   "source": [
    "def c(n,r):\n",
    "    if (r==0 or r==n):\n",
    "        return 1\n",
    "    else:\n",
    "        return c(n-1,r-1)+c(n-1,r)"
   ]
  },
  {
   "cell_type": "code",
   "execution_count": 104,
   "metadata": {},
   "outputs": [
    {
     "data": {
      "text/plain": [
       "3"
      ]
     },
     "execution_count": 104,
     "metadata": {},
     "output_type": "execute_result"
    }
   ],
   "source": [
    "c(3,2)"
   ]
  },
  {
   "cell_type": "markdown",
   "metadata": {},
   "source": [
    "## Array\n",
    "\n",
    "- scalr int x=10\n",
    "- int a[5];\n",
    "- arrays are vector data types\n",
    "- |2000|2002|2004|2006|2008|\n",
    "\n",
    "- int a[5] garabage values\n",
    "- int a[5]={2,3,,44}\n",
    "- int a[5]={1,2}\n",
    "- int A[5]={0} alll Zeros\n",
    "- int A[]={1,,2,3,4}\n",
    "\n",
    "#### Accessing a[0]...a[1]...a[n-1]\n",
    "- A[2],2[A]\n",
    "- *(A+2)\n",
    "\n",
    "#### Types:\n",
    "-Static(stack) and Dynamic(heap) runtime \n",
    "- int A[5]\n",
    "- int *p\n",
    "- p=new int[5]\n",
    "- a[0]=5\n",
    "- p[0]=5\n",
    "\n",
    "- p=(*int) malloc (5*sizeof(int))\n",
    "- delete []p\n",
    "- free p\n",
    "\n",
    "### Memory Copying *\n",
    "\n",
    "- int *p=new int[5]\n",
    "- int *q=new int[10]\n",
    "- for i=1 to n:\n",
    "  q[i]=p[i]\n",
    "- p=q\n",
    "- q=NULL\n",
    "\n",
    "### 2D Arrays\n",
    "#### in Stack\n",
    "- int A[3][4]\n",
    "\n",
    "#### Partial in Stack and Heap\n",
    "\n",
    "\n",
    "- int *A[3]\n",
    "- A[0]=new int[4]\n",
    "- A[1]=new int[4]\n",
    "- A[2]=new int[4]\n",
    "#### Completely in Heap\n",
    "- int **A\n",
    "- A=new int* [3]\n",
    "- A[0]=new int[4]\n",
    "- A[1]=new int[3]\n",
    "\n",
    "##### Formula\n",
    "- A[i]=Base Adrr+index*(size of Type)\n",
    "- With Array starts with 1\n",
    "- arr(A[i])=L0+(i-1)*size More Macros Opetations\n",
    "\n",
    "#### Mapping 2D\n",
    "##### ROW Major Order\n",
    "- A[n][m]\n",
    "- A[i][j]=Lo+[i*n+j]*size\n",
    "\n",
    "###### Column Major\n",
    "\n",
    "- A[i][j]=Lo+[j*n+i]*siz"
   ]
  },
  {
   "cell_type": "code",
   "execution_count": 5,
   "metadata": {},
   "outputs": [
    {
     "name": "stdout",
     "output_type": "stream",
     "text": [
      "140710895264176\n",
      "140710895264208\n",
      "140710895265232\n",
      "140710895264272\n"
     ]
    }
   ],
   "source": [
    "a=[1,2,34,4]\n",
    "for i in a:\n",
    "    print(id(i+1))"
   ]
  },
  {
   "cell_type": "code",
   "execution_count": 4,
   "metadata": {},
   "outputs": [
    {
     "data": {
      "text/plain": [
       "-1024"
      ]
     },
     "execution_count": 4,
     "metadata": {},
     "output_type": "execute_result"
    }
   ],
   "source": [
    "4176-5200"
   ]
  },
  {
   "cell_type": "code",
   "execution_count": 2,
   "metadata": {},
   "outputs": [
    {
     "data": {
      "text/plain": [
       "[[1, 2, 3], [2, 3, 4], [5, 6, 7]]"
      ]
     },
     "execution_count": 2,
     "metadata": {},
     "output_type": "execute_result"
    }
   ],
   "source": [
    "l=[[1,2,3],[2,3,4],[5,6,7]]\n",
    "l"
   ]
  },
  {
   "cell_type": "code",
   "execution_count": 3,
   "metadata": {},
   "outputs": [
    {
     "data": {
      "text/plain": [
       "[1, 2, 3]"
      ]
     },
     "execution_count": 3,
     "metadata": {},
     "output_type": "execute_result"
    }
   ],
   "source": [
    "l[0]"
   ]
  },
  {
   "cell_type": "code",
   "execution_count": 181,
   "metadata": {},
   "outputs": [],
   "source": [
    "size=10\n",
    "len_=0\n",
    "arr=[0]*10"
   ]
  },
  {
   "cell_type": "code",
   "execution_count": 182,
   "metadata": {},
   "outputs": [],
   "source": [
    "def append_(ele):\n",
    "    global len_\n",
    "    global size\n",
    "    if(len_<size):\n",
    "        arr[len_]=ele\n",
    "        len_+=1\n",
    "        return arr,len_\n",
    "    return False"
   ]
  },
  {
   "cell_type": "code",
   "execution_count": 183,
   "metadata": {},
   "outputs": [
    {
     "data": {
      "text/plain": [
       "([100, 0, 0, 0, 0, 0, 0, 0, 0, 0], 1)"
      ]
     },
     "execution_count": 183,
     "metadata": {},
     "output_type": "execute_result"
    }
   ],
   "source": [
    "append_(100)"
   ]
  },
  {
   "cell_type": "code",
   "execution_count": 184,
   "metadata": {},
   "outputs": [
    {
     "data": {
      "text/plain": [
       "([100, 55, 0, 0, 0, 0, 0, 0, 0, 0], 2)"
      ]
     },
     "execution_count": 184,
     "metadata": {},
     "output_type": "execute_result"
    }
   ],
   "source": [
    "append_(55)"
   ]
  },
  {
   "cell_type": "code",
   "execution_count": 185,
   "metadata": {},
   "outputs": [],
   "source": [
    "def insert_(ind,ele):\n",
    "    global len_\n",
    "    global size\n",
    "    if(ind>=0 and ind<=len_):\n",
    "        for i in range(len_,ind,-1):\n",
    "            arr[i]=arr[i-1]\n",
    "        arr[ind]=ele\n",
    "        len_+=1\n",
    "        \n",
    "        return arr,len_\n",
    "    else:\n",
    "        return False\n",
    "    "
   ]
  },
  {
   "cell_type": "code",
   "execution_count": 186,
   "metadata": {},
   "outputs": [
    {
     "data": {
      "text/plain": [
       "([100, 66, 55, 0, 0, 0, 0, 0, 0, 0], 3)"
      ]
     },
     "execution_count": 186,
     "metadata": {},
     "output_type": "execute_result"
    }
   ],
   "source": [
    "insert_(1,66)"
   ]
  },
  {
   "cell_type": "code",
   "execution_count": 187,
   "metadata": {},
   "outputs": [
    {
     "data": {
      "text/plain": [
       "([100, 66, 111, 55, 0, 0, 0, 0, 0, 0], 4)"
      ]
     },
     "execution_count": 187,
     "metadata": {},
     "output_type": "execute_result"
    }
   ],
   "source": [
    "insert_(2,111)"
   ]
  },
  {
   "cell_type": "code",
   "execution_count": 188,
   "metadata": {},
   "outputs": [
    {
     "data": {
      "text/plain": [
       "([100, 66, 88, 111, 55, 0, 0, 0, 0, 0], 5)"
      ]
     },
     "execution_count": 188,
     "metadata": {},
     "output_type": "execute_result"
    }
   ],
   "source": [
    "insert_(2,88)"
   ]
  },
  {
   "cell_type": "code",
   "execution_count": 189,
   "metadata": {},
   "outputs": [
    {
     "data": {
      "text/plain": [
       "([100, 66, 88, 111, 99, 55, 0, 0, 0, 0], 6)"
      ]
     },
     "execution_count": 189,
     "metadata": {},
     "output_type": "execute_result"
    }
   ],
   "source": [
    "insert_(4,99)"
   ]
  },
  {
   "cell_type": "code",
   "execution_count": 190,
   "metadata": {},
   "outputs": [],
   "source": [
    "def del_(ind):\n",
    "    global len_\n",
    "    global size\n",
    "    del_el=arr[ind]\n",
    "    if ind>=0 and ind<len_:\n",
    "        for i in range(ind,len_-1):\n",
    "            arr[i]=arr[i+1]    \n",
    "        len_-=1\n",
    "        arr[len_]=0\n",
    "        return arr,del_el,len_\n",
    "    else:\n",
    "        return False"
   ]
  },
  {
   "cell_type": "code",
   "execution_count": 191,
   "metadata": {},
   "outputs": [],
   "source": [
    "import keyword"
   ]
  },
  {
   "cell_type": "code",
   "execution_count": 192,
   "metadata": {},
   "outputs": [
    {
     "data": {
      "text/plain": [
       "[100, 66, 88, 111, 99, 55, 0, 0, 0, 0]"
      ]
     },
     "execution_count": 192,
     "metadata": {},
     "output_type": "execute_result"
    }
   ],
   "source": [
    "# keyword.kwlist\n",
    "arr"
   ]
  },
  {
   "cell_type": "code",
   "execution_count": 193,
   "metadata": {},
   "outputs": [
    {
     "data": {
      "text/plain": [
       "([100, 66, 88, 99, 55, 0, 0, 0, 0, 0], 111, 5)"
      ]
     },
     "execution_count": 193,
     "metadata": {},
     "output_type": "execute_result"
    }
   ],
   "source": [
    "del_(3)"
   ]
  },
  {
   "cell_type": "code",
   "execution_count": 194,
   "metadata": {},
   "outputs": [
    {
     "data": {
      "text/plain": [
       "False"
      ]
     },
     "execution_count": 194,
     "metadata": {},
     "output_type": "execute_result"
    }
   ],
   "source": [
    "del_(8)"
   ]
  },
  {
   "cell_type": "markdown",
   "metadata": {},
   "source": [
    "### Linerar Search"
   ]
  },
  {
   "cell_type": "code",
   "execution_count": 9,
   "metadata": {},
   "outputs": [],
   "source": [
    "def linear_search(key,arr):\n",
    "    \"\"\"\n",
    "    Linear Search \n",
    "    Best case :O(1)\n",
    "    Worst Case:O(n)\n",
    "    Average Case:O(n//2)\n",
    "    \"\"\"\n",
    "    for i in range(len(arr)):\n",
    "        if arr[i]==key:\n",
    "            return True,i\n",
    "    else:\n",
    "        return False,-1\n",
    "        "
   ]
  },
  {
   "cell_type": "code",
   "execution_count": 10,
   "metadata": {},
   "outputs": [
    {
     "data": {
      "text/plain": [
       "(False, -1)"
      ]
     },
     "execution_count": 10,
     "metadata": {},
     "output_type": "execute_result"
    }
   ],
   "source": [
    "arr=[8,9,10,2,99,55,66]\n",
    "#unique elements\n",
    "linear_search(18,arr)"
   ]
  },
  {
   "cell_type": "code",
   "execution_count": 26,
   "metadata": {},
   "outputs": [],
   "source": [
    "#Transposition\n",
    "# #slow reduction in time ,for searching\n",
    "def linear_search(key,arr):\n",
    "    \"\"\"\n",
    "    Linear Search \n",
    "    Best case :O(1)\n",
    "    Worst Case:O(n)\n",
    "    Average Case:O(n//2)\n",
    "    \"\"\"\n",
    "    for i in range(len(arr)):\n",
    "        if arr[i]==key:\n",
    "            arr[i],arr[i-1]=arr[i-1],arr[i]\n",
    "            return True,i-1,arr\n",
    "    else:\n",
    "        return False,-1\n",
    "        "
   ]
  },
  {
   "cell_type": "code",
   "execution_count": 27,
   "metadata": {},
   "outputs": [
    {
     "data": {
      "text/plain": [
       "(True, 4, [8, 9, 10, 2, 55, 99, 66])"
      ]
     },
     "execution_count": 27,
     "metadata": {},
     "output_type": "execute_result"
    }
   ],
   "source": [
    "arr=[8,9,10,2,99,55,66]\n",
    "#unique elements\n",
    "linear_search(55,arr)"
   ]
  },
  {
   "cell_type": "code",
   "execution_count": 28,
   "metadata": {},
   "outputs": [],
   "source": [
    "# Move to front\n",
    "# sudden reduction in time ,for searching\n",
    "# In next search the element can be found in Constant Search\n",
    "\n",
    "def linear_search(key,arr):\n",
    "    \"\"\"\n",
    "    Linear Search \n",
    "    Best case :O(1)\n",
    "    Worst Case:O(n)\n",
    "    Average Case:O(n//2)\n",
    "    \"\"\"\n",
    "    for i in range(len(arr)):\n",
    "        if arr[i]==key:\n",
    "            arr[i],arr[0]=arr[0],arr[i]\n",
    "            return True,0,arr\n",
    "    else:\n",
    "        return False,-1"
   ]
  },
  {
   "cell_type": "code",
   "execution_count": 30,
   "metadata": {},
   "outputs": [
    {
     "data": {
      "text/plain": [
       "(True, 0, [66, 9, 10, 2, 99, 55, 8])"
      ]
     },
     "execution_count": 30,
     "metadata": {},
     "output_type": "execute_result"
    }
   ],
   "source": [
    "arr=[8,9,10,2,99,55,66]\n",
    "#unique elements\n",
    "linear_search(66,arr)"
   ]
  },
  {
   "cell_type": "markdown",
   "metadata": {},
   "source": [
    "### Binary search "
   ]
  },
  {
   "cell_type": "code",
   "execution_count": 52,
   "metadata": {},
   "outputs": [],
   "source": [
    "def binary_search(arr,L,H,key):\n",
    "    if len(arr)==0:\n",
    "        return\n",
    "    L=0\n",
    "    H=len(arr)-1\n",
    "    \n",
    "    while L<=H:\n",
    "        mid=(L+H)//2\n",
    "        if arr[mid]==key:\n",
    "            return mid\n",
    "        elif key<arr[mid]:\n",
    "            H=mid-1\n",
    "        elif key>arr[mid]:\n",
    "            L=mid+1\n",
    "        else:\n",
    "            return -1\n",
    "    "
   ]
  },
  {
   "cell_type": "code",
   "execution_count": 53,
   "metadata": {},
   "outputs": [
    {
     "data": {
      "text/plain": [
       "5"
      ]
     },
     "execution_count": 53,
     "metadata": {},
     "output_type": "execute_result"
    }
   ],
   "source": [
    "arr=[4,8,10,15,18,21,24,27,29,33,34,37,39,41,43]\n",
    "binary_search(arr,0,len(arr),21)"
   ]
  },
  {
   "cell_type": "code",
   "execution_count": 54,
   "metadata": {},
   "outputs": [],
   "source": [
    "def binary_search(arr,L,H,key):\n",
    "    if len(arr)==0:\n",
    "        return\n",
    "    L=0\n",
    "    H=len(arr)-1\n",
    "    res=-1\n",
    "    \n",
    "    while L<=H:\n",
    "        mid=(L+H)//2\n",
    "        if key<=arr[mid]:\n",
    "            H=mid-1\n",
    "            res=mid\n",
    "        elif key>arr[mid]:\n",
    "            L=mid+1\n",
    "        else:\n",
    "            return -1\n",
    "    return res\n",
    "    "
   ]
  },
  {
   "cell_type": "code",
   "execution_count": 49,
   "metadata": {},
   "outputs": [
    {
     "data": {
      "text/plain": [
       "9"
      ]
     },
     "execution_count": 49,
     "metadata": {},
     "output_type": "execute_result"
    }
   ],
   "source": [
    "arr=[4,8,10,15,18,21,24,27,29,33,34,37,39,41,43]\n",
    "binary_search(arr,0,len(arr),33)"
   ]
  },
  {
   "cell_type": "code",
   "execution_count": 50,
   "metadata": {},
   "outputs": [
    {
     "data": {
      "text/plain": [
       "33"
      ]
     },
     "execution_count": 50,
     "metadata": {},
     "output_type": "execute_result"
    }
   ],
   "source": [
    "arr[9]"
   ]
  },
  {
   "cell_type": "code",
   "execution_count": 58,
   "metadata": {},
   "outputs": [],
   "source": [
    "# Reccursive \n",
    "def rec_BS(arr,l,h,key):\n",
    "    \n",
    "    \"\"\"\n",
    "    uses stack has it is tail recursion ,best to go with Loop\n",
    "    complexity:\n",
    "    best case :O(1)\n",
    "    average case:Theta(0)\n",
    "    worst case :O(logn)\n",
    "    \n",
    "    I=internal paths\n",
    "    E=internal paths\n",
    "    E=I+2n\n",
    "    As(n)=1+I/n\n",
    "    Au(n)=E/n+1\n",
    "    E=nlogn/n+1=logn\n",
    "    \"\"\"\n",
    "    if(l<=h):\n",
    "        mid=(l+h)//2\n",
    "        if(key==arr[mid]):\n",
    "            return mid\n",
    "        elif (key<arr[mid]):\n",
    "            return rec_BS(arr,l,mid-1,key)\n",
    "        else:\n",
    "            return rec_BS(arr,mid+1,h,key)\n",
    "    else:\n",
    "        return -1\n",
    "            "
   ]
  },
  {
   "cell_type": "code",
   "execution_count": 60,
   "metadata": {},
   "outputs": [
    {
     "data": {
      "text/plain": [
       "10"
      ]
     },
     "execution_count": 60,
     "metadata": {},
     "output_type": "execute_result"
    }
   ],
   "source": [
    "arr=[4,8,10,15,18,21,24,27,29,33,34,37,39,41,43]\n",
    "binary_search(arr,0,len(arr)-1,34)"
   ]
  },
  {
   "cell_type": "code",
   "execution_count": 61,
   "metadata": {},
   "outputs": [
    {
     "name": "stdout",
     "output_type": "stream",
     "text": [
      "14\n"
     ]
    }
   ],
   "source": [
    "# get(ind)-O(1)\n",
    "# get(ind)-O(1)\n",
    "# getMax(ele)-O(n)\n",
    "# sum() O(n)\n",
    "# avg() O(n)\n",
    "a=[1,5,2,10,14,9]\n",
    "m=0\n",
    "for i in a:\n",
    "    if i>m:\n",
    "        m=i\n",
    "print(m)"
   ]
  },
  {
   "cell_type": "markdown",
   "metadata": {},
   "source": [
    "### sum of arr elments"
   ]
  },
  {
   "cell_type": "code",
   "execution_count": 87,
   "metadata": {},
   "outputs": [],
   "source": [
    "def s(a,n):\n",
    "    if n==0:\n",
    "        return a[n]\n",
    "    return s(a,n-1)+a[n]\n",
    "        "
   ]
  },
  {
   "cell_type": "code",
   "execution_count": 88,
   "metadata": {},
   "outputs": [
    {
     "data": {
      "text/plain": [
       "37"
      ]
     },
     "execution_count": 88,
     "metadata": {},
     "output_type": "execute_result"
    }
   ],
   "source": [
    "a=[1,2,34]\n",
    "s(a,len(a)-1)"
   ]
  },
  {
   "cell_type": "markdown",
   "metadata": {},
   "source": [
    "### Second largest"
   ]
  },
  {
   "cell_type": "code",
   "execution_count": 81,
   "metadata": {},
   "outputs": [],
   "source": [
    "def sec_lar(arr):\n",
    "    res=-1\n",
    "    lar=0\n",
    "    for i in range(1,len(arr)):\n",
    "        if arr[i]>arr[lar]:\n",
    "            res=lar\n",
    "            lar=i\n",
    "           \n",
    "        else:\n",
    "            if(res==-1 or arr[i]>arr[res]):\n",
    "                res=i\n",
    "    return res,lar\n",
    "                "
   ]
  },
  {
   "cell_type": "code",
   "execution_count": 84,
   "metadata": {},
   "outputs": [
    {
     "data": {
      "text/plain": [
       "(5, 3)"
      ]
     },
     "execution_count": 84,
     "metadata": {},
     "output_type": "execute_result"
    }
   ],
   "source": [
    "a=[10,7,6,99,8,88]\n",
    "sec_lar(a)"
   ]
  },
  {
   "cell_type": "markdown",
   "metadata": {},
   "source": [
    "### reverse"
   ]
  },
  {
   "cell_type": "code",
   "execution_count": 93,
   "metadata": {},
   "outputs": [],
   "source": [
    "def rev(arr):\n",
    "    l=0\n",
    "    r=len(arr)-1\n",
    "    while l<=r:\n",
    "        arr[l],arr[r]=arr[r],arr[l]\n",
    "        l+=1\n",
    "        r-=1\n",
    "    return arr"
   ]
  },
  {
   "cell_type": "code",
   "execution_count": 94,
   "metadata": {},
   "outputs": [
    {
     "data": {
      "text/plain": [
       "[6, 9, 0, 3]"
      ]
     },
     "execution_count": 94,
     "metadata": {},
     "output_type": "execute_result"
    }
   ],
   "source": [
    "rev([3,0,9,6])"
   ]
  },
  {
   "cell_type": "code",
   "execution_count": 133,
   "metadata": {},
   "outputs": [],
   "source": [
    "def lefy_shift(arr):\n",
    "    x=arr[0]\n",
    "    for i in range(len(arr)-1):\n",
    "        arr[i]=arr[i+1]\n",
    "    print(i)\n",
    "    arr[i+1]=x\n",
    "    return arr"
   ]
  },
  {
   "cell_type": "code",
   "execution_count": 134,
   "metadata": {},
   "outputs": [
    {
     "name": "stdout",
     "output_type": "stream",
     "text": [
      "2\n"
     ]
    },
    {
     "data": {
      "text/plain": [
       "[0, 9, 6, 3]"
      ]
     },
     "execution_count": 134,
     "metadata": {},
     "output_type": "execute_result"
    }
   ],
   "source": [
    "lefy_shift([3,0,9,6])\n",
    "# lS= 0 9 6 3\n",
    "# RS= 6 3 0 9\n"
   ]
  },
  {
   "cell_type": "code",
   "execution_count": 132,
   "metadata": {},
   "outputs": [],
   "source": [
    "def right_shift(arr):\n",
    "    x=arr[-1]\n",
    "    for i in range(len(arr)-1,-1,-1):\n",
    "#         print(\"kljlsk\")\n",
    "        arr[i]=arr[i-1]\n",
    "    print(i)\n",
    "    arr[i]=x\n",
    "    return arr"
   ]
  },
  {
   "cell_type": "code",
   "execution_count": 129,
   "metadata": {},
   "outputs": [
    {
     "name": "stdout",
     "output_type": "stream",
     "text": [
      "0\n"
     ]
    },
    {
     "data": {
      "text/plain": [
       "[6, 3, 0, 9]"
      ]
     },
     "execution_count": 129,
     "metadata": {},
     "output_type": "execute_result"
    }
   ],
   "source": [
    "right_shift([3,0,9,6])\n"
   ]
  },
  {
   "cell_type": "code",
   "execution_count": 141,
   "metadata": {},
   "outputs": [],
   "source": [
    "# sorted of not:\n",
    "# O(n)\n",
    "def sorted_or_not(arr):\n",
    "    for i in range(len(arr)-1):\n",
    "        if(arr[i]>arr[i+1]):\n",
    "            return False\n",
    "    else:\n",
    "        return True"
   ]
  },
  {
   "cell_type": "code",
   "execution_count": 142,
   "metadata": {},
   "outputs": [
    {
     "data": {
      "text/plain": [
       "True"
      ]
     },
     "execution_count": 142,
     "metadata": {},
     "output_type": "execute_result"
    }
   ],
   "source": [
    "sorted_or_not([0,49,66])"
   ]
  },
  {
   "cell_type": "code",
   "execution_count": 154,
   "metadata": {},
   "outputs": [],
   "source": [
    "# _ve on left side\n",
    "def shift_ve(arr):\n",
    "    i=0\n",
    "    j=len(arr)-1\n",
    "    while(i<j):\n",
    "        while (arr[i]<0):\n",
    "            i+=1\n",
    "        while (arr[j]>=0):\n",
    "            j-=1\n",
    "        if(i<=j):\n",
    "            arr[i],arr[j]=arr[j],arr[i]\n",
    "    "
   ]
  },
  {
   "cell_type": "code",
   "execution_count": 155,
   "metadata": {},
   "outputs": [],
   "source": [
    "a=[-6,5,10,12,3,2,-4,-8,-7]\n",
    "shift_ve(a) "
   ]
  },
  {
   "cell_type": "code",
   "execution_count": 156,
   "metadata": {},
   "outputs": [
    {
     "data": {
      "text/plain": [
       "[-6, -7, -8, -4, 3, 2, 12, 10, 5]"
      ]
     },
     "execution_count": 156,
     "metadata": {},
     "output_type": "execute_result"
    }
   ],
   "source": [
    "a"
   ]
  },
  {
   "cell_type": "code",
   "execution_count": 25,
   "metadata": {},
   "outputs": [],
   "source": [
    "def neg_shift(arr):\n",
    "    len1=0\n",
    "    for i in range(len(arr)):\n",
    "        if(arr[i]<0):\n",
    "            print(i,len1)\n",
    "            #swapping (a,b)=(b,a)\n",
    "            (arr[i],arr[len1])=(arr[len1],arr[i])\n",
    "            len1+=1\n",
    "          \n",
    "    return arr"
   ]
  },
  {
   "cell_type": "code",
   "execution_count": 26,
   "metadata": {},
   "outputs": [
    {
     "name": "stdout",
     "output_type": "stream",
     "text": [
      "0 0\n",
      "3 1\n"
     ]
    },
    {
     "data": {
      "text/plain": [
       "[-2, -4, 2, 1]"
      ]
     },
     "execution_count": 26,
     "metadata": {},
     "output_type": "execute_result"
    }
   ],
   "source": [
    "neg_shift([-2,1,2,-4])"
   ]
  },
  {
   "cell_type": "code",
   "execution_count": 29,
   "metadata": {},
   "outputs": [
    {
     "data": {
      "text/plain": [
       "11"
      ]
     },
     "execution_count": 29,
     "metadata": {},
     "output_type": "execute_result"
    }
   ],
   "source": [
    "# (8+14)//2"
   ]
  },
  {
   "cell_type": "code",
   "execution_count": 30,
   "metadata": {},
   "outputs": [],
   "source": [
    "#from math import *"
   ]
  },
  {
   "cell_type": "code",
   "execution_count": 34,
   "metadata": {},
   "outputs": [
    {
     "data": {
      "text/plain": [
       "1.0"
      ]
     },
     "execution_count": 34,
     "metadata": {},
     "output_type": "execute_result"
    }
   ],
   "source": [
    "\n",
    "log2(16)\n",
    "16/2/2/2/2\n",
    "16/(2**4)"
   ]
  },
  {
   "cell_type": "code",
   "execution_count": null,
   "metadata": {},
   "outputs": [],
   "source": []
  }
 ],
 "metadata": {
  "kernelspec": {
   "display_name": "Python 3",
   "language": "python",
   "name": "python3"
  },
  "language_info": {
   "codemirror_mode": {
    "name": "ipython",
    "version": 3
   },
   "file_extension": ".py",
   "mimetype": "text/x-python",
   "name": "python",
   "nbconvert_exporter": "python",
   "pygments_lexer": "ipython3",
   "version": "3.7.7"
  }
 },
 "nbformat": 4,
 "nbformat_minor": 4
}
